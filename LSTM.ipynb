{
  "nbformat": 4,
  "nbformat_minor": 0,
  "metadata": {
    "colab": {
      "name": "LSTM.ipynb",
      "provenance": [],
      "collapsed_sections": []
    },
    "kernelspec": {
      "name": "python3",
      "display_name": "Python 3"
    },
    "language_info": {
      "name": "python"
    }
  },
  "cells": [
    {
      "cell_type": "code",
      "metadata": {
        "id": "TA-o30Ni-c6C"
      },
      "source": [
        "#Import Libraries\n",
        "import numpy as np\n",
        "import pandas as pd\n",
        "import matplotlib.pyplot as plt\n",
        "import seaborn as sns\n",
        "from sklearn.model_selection import train_test_split\n",
        "from sklearn.preprocessing import LabelEncoder\n",
        "from keras.layers import LSTM,Activation,Dense,Dropout,Input,Embedding\n",
        "from keras.preprocessing.text import Tokenizer\n",
        "from keras.preprocessing import sequence\n",
        "from keras.callbacks import EarlyStopping\n",
        "from keras.preprocessing import sequence\n",
        "from keras.models import Model"
      ],
      "execution_count": 38,
      "outputs": []
    },
    {
      "cell_type": "code",
      "metadata": {
        "id": "DkYXtHIWIZq2",
        "colab": {
          "base_uri": "https://localhost:8080/"
        },
        "outputId": "daad5b25-8c08-4230-96f3-decc66ac5be8"
      },
      "source": [
        "#Load the data\n",
        "data = pd.read_csv('/content/spam.csv',delimiter=',',encoding='latin-1')\n",
        "print(data.head())"
      ],
      "execution_count": 39,
      "outputs": [
        {
          "output_type": "stream",
          "name": "stdout",
          "text": [
            "     v1  ... Unnamed: 4\n",
            "0   ham  ...        NaN\n",
            "1   ham  ...        NaN\n",
            "2  spam  ...        NaN\n",
            "3   ham  ...        NaN\n",
            "4   ham  ...        NaN\n",
            "\n",
            "[5 rows x 5 columns]\n"
          ]
        }
      ]
    },
    {
      "cell_type": "code",
      "metadata": {
        "id": "oViSIUs9Iv7E"
      },
      "source": [
        "#Dropping the unwanted columns\n",
        "data.drop(['Unnamed: 2', 'Unnamed: 3', 'Unnamed: 4'],axis=1,inplace=True)"
      ],
      "execution_count": 40,
      "outputs": []
    },
    {
      "cell_type": "code",
      "metadata": {
        "colab": {
          "base_uri": "https://localhost:8080/"
        },
        "id": "FeRNRnofeA8B",
        "outputId": "c153682a-139e-4b35-b0a4-6bb9c10b5365"
      },
      "source": [
        "data.columns"
      ],
      "execution_count": 41,
      "outputs": [
        {
          "output_type": "execute_result",
          "data": {
            "text/plain": [
              "Index(['v1', 'v2'], dtype='object')"
            ]
          },
          "metadata": {},
          "execution_count": 41
        }
      ]
    },
    {
      "cell_type": "code",
      "metadata": {
        "colab": {
          "base_uri": "https://localhost:8080/",
          "height": 366
        },
        "id": "XDjezXWlKBli",
        "outputId": "09d77062-a69d-4f08-e004-aeb7369aea0d"
      },
      "source": [
        "# Understand the distribution better\n",
        "sns.countplot(data['v1'])\n",
        "plt.xlabel('label')\n",
        "plt.title('Number of Ham and Spam Messages')"
      ],
      "execution_count": 42,
      "outputs": [
        {
          "output_type": "stream",
          "name": "stderr",
          "text": [
            "/usr/local/lib/python3.7/dist-packages/seaborn/_decorators.py:43: FutureWarning: Pass the following variable as a keyword arg: x. From version 0.12, the only valid positional argument will be `data`, and passing other arguments without an explicit keyword will result in an error or misinterpretation.\n",
            "  FutureWarning\n"
          ]
        },
        {
          "output_type": "execute_result",
          "data": {
            "text/plain": [
              "Text(0.5, 1.0, 'Number of Ham and Spam Messages')"
            ]
          },
          "metadata": {},
          "execution_count": 42
        },
        {
          "output_type": "display_data",
          "data": {
            "image/png": "[encoded data removed]",
            "text/plain": [
              "<Figure size 432x288 with 1 Axes>"
            ]
          },
          "metadata": {
            "needs_background": "light"
          }
        }
      ]
    },
    {
      "cell_type": "code",
      "metadata": {
        "id": "kFnoYfCYeSZu"
      },
      "source": [
        "#Create Input and ouput vectors\n",
        "x = data.v2\n",
        "y = data.v1"
      ],
      "execution_count": 43,
      "outputs": []
    },
    {
      "cell_type": "code",
      "metadata": {
        "id": "UMOKTyYkehVf"
      },
      "source": [
        "#Label Encoder\n",
        "le = LabelEncoder()\n",
        "y = le.fit_transform(y)"
      ],
      "execution_count": 44,
      "outputs": []
    },
    {
      "cell_type": "code",
      "metadata": {
        "id": "vekVA5bYfI-z"
      },
      "source": [
        "# Forcely Converting 2D dependent variable into 1D  \n",
        "y = y.reshape(-1,1)"
      ],
      "execution_count": 45,
      "outputs": []
    },
    {
      "cell_type": "code",
      "metadata": {
        "id": "C2SE1GAqfn74"
      },
      "source": [
        "#Splitting into training and test data\n",
        "xtrain,xtest,ytrain,ytest = train_test_split(x,y,test_size=0.15)"
      ],
      "execution_count": 49,
      "outputs": []
    },
    {
      "cell_type": "markdown",
      "metadata": {
        "id": "zyr3tSMRgbwj"
      },
      "source": [
        "**Process the data**\n",
        "\n",
        "Tokenize the data and convert the text to sequences.Add padding to ensure that all the sequences have the same shape.There are many ways of taking the max_len and here an arbitrary length of 150 is chosen."
      ]
    },
    {
      "cell_type": "code",
      "metadata": {
        "id": "SqcpB8n4gjlZ",
        "colab": {
          "base_uri": "https://localhost:8080/"
        },
        "outputId": "1b06843d-e9ad-4dbc-a116-4b705aff39fc"
      },
      "source": [
        "# Top 1000 frequently occurring words\n",
        "max_words = 1000\n",
        "\n",
        "# Define the sequence lengths, max number of words and embedding dimensions\n",
        "# Sequence length of each sentence. If more, truncate. If less, pad with zeros\n",
        "max_len = 150\n",
        "tok = Tokenizer(num_words=max_words)\n",
        "tok.fit_on_texts(xtrain)\n",
        "tok"
      ],
      "execution_count": 53,
      "outputs": [
        {
          "output_type": "execute_result",
          "data": {
            "text/plain": [
              "<keras_preprocessing.text.Tokenizer at 0x7f07bf7287d0>"
            ]
          },
          "metadata": {},
          "execution_count": 53
        }
      ]
    },
    {
      "cell_type": "code",
      "metadata": {
        "id": "FPO6Ap6qoI6M"
      },
      "source": [
        "#Transform each text to a sequence of integers\n",
        "sequencee = tok.texts_to_sequences(xtrain)"
      ],
      "execution_count": 54,
      "outputs": []
    },
    {
      "cell_type": "code",
      "metadata": {
        "id": "LdZEs_p0oJHX"
      },
      "source": [
        "#Paddig\n",
        "sequence_matrix = sequence.pad_sequences(sequencee,maxlen=max_len)"
      ],
      "execution_count": 55,
      "outputs": []
    },
    {
      "cell_type": "code",
      "metadata": {
        "id": "bqW3T7hKpxeA"
      },
      "source": [
        "#Build the model RNN\n",
        "i = Input(name='Inputs',shape=(max_len))\n",
        "x = Embedding(max_words,50,input_length=max_len)(i)\n",
        "x = LSTM(64)(x)\n",
        "x = Dense(256,name='FC1',activation='relu')(x)\n",
        "x = Dropout(0.5)(x)\n",
        "x = Dense(1,activation='sigmoid')(x)\n",
        "model = Model(i,x)"
      ],
      "execution_count": 67,
      "outputs": []
    },
    {
      "cell_type": "code",
      "metadata": {
        "colab": {
          "base_uri": "https://localhost:8080/"
        },
        "id": "rL7F9_8BrDG9",
        "outputId": "9dbf944c-0548-40e0-9a45-3b16cc9d6e43"
      },
      "source": [
        "#Call the function and compile the model\n",
        "model.compile(loss='binary_crossentropy',\n",
        "              optimizer='rmsprop',\n",
        "              metrics=['accuracy'])\n",
        "model.summary()"
      ],
      "execution_count": 68,
      "outputs": [
        {
          "output_type": "stream",
          "name": "stdout",
          "text": [
            "Model: \"model_3\"\n",
            "_________________________________________________________________\n",
            " Layer (type)                Output Shape              Param #   \n",
            "=================================================================\n",
            " Inputs (InputLayer)         [(None, 150)]             0         \n",
            "                                                                 \n",
            " embedding_5 (Embedding)     (None, 150, 50)           50000     \n",
            "                                                                 \n",
            " lstm_5 (LSTM)               (None, 64)                29440     \n",
            "                                                                 \n",
            " FC1 (Dense)                 (None, 256)               16640     \n",
            "                                                                 \n",
            " dropout_5 (Dropout)         (None, 256)               0         \n",
            "                                                                 \n",
            " dense_3 (Dense)             (None, 1)                 257       \n",
            "                                                                 \n",
            "=================================================================\n",
            "Total params: 96,337\n",
            "Trainable params: 96,337\n",
            "Non-trainable params: 0\n",
            "_________________________________________________________________\n"
          ]
        }
      ]
    },
    {
      "cell_type": "code",
      "metadata": {
        "colab": {
          "base_uri": "https://localhost:8080/"
        },
        "id": "Tdw_WXaqsFk0",
        "outputId": "8477f7a3-5115-4ba7-da36-f1b25452ea5c"
      },
      "source": [
        "#Fit the training data\n",
        "lstm = model.fit(sequence_matrix,ytrain,batch_size=128,epochs=10,\n",
        "                 validation_split=0.2,callbacks=[EarlyStopping(monitor='val_loss',min_delta=0.0001)])"
      ],
      "execution_count": 69,
      "outputs": [
        {
          "output_type": "stream",
          "name": "stdout",
          "text": [
            "Epoch 1/10\n",
            "30/30 [==============================] - 8s 199ms/step - loss: 0.3283 - accuracy: 0.8823 - val_loss: 0.1366 - val_accuracy: 0.9684\n",
            "Epoch 2/10\n",
            "30/30 [==============================] - 5s 180ms/step - loss: 0.0924 - accuracy: 0.9781 - val_loss: 0.0464 - val_accuracy: 0.9895\n"
          ]
        }
      ]
    },
    {
      "cell_type": "code",
      "metadata": {
        "colab": {
          "base_uri": "https://localhost:8080/",
          "height": 282
        },
        "id": "fYJVh4bYu0CS",
        "outputId": "9611e80c-741c-49e5-bc6f-1abe1f36beb3"
      },
      "source": [
        "# Plot loss per iteration\n",
        "import matplotlib.pyplot as plt\n",
        "plt.plot(lstm.history['loss'], label='loss')\n",
        "plt.plot(lstm.history['val_loss'], label='val_loss')\n",
        "plt.legend()"
      ],
      "execution_count": 70,
      "outputs": [
        {
          "output_type": "execute_result",
          "data": {
            "text/plain": [
              "<matplotlib.legend.Legend at 0x7f07bacc0a50>"
            ]
          },
          "metadata": {},
          "execution_count": 70
        },
        {
          "output_type": "display_data",
          "data": {
            "image/png": "[encoded data removed]",
            "text/plain": [
              "<Figure size 432x288 with 1 Axes>"
            ]
          },
          "metadata": {
            "needs_background": "light"
          }
        }
      ]
    },
    {
      "cell_type": "code",
      "metadata": {
        "colab": {
          "base_uri": "https://localhost:8080/",
          "height": 282
        },
        "id": "PJAJuNBBwduA",
        "outputId": "37eaa2e0-84db-404b-fa9c-4a7770fc4e78"
      },
      "source": [
        "# Plot loss per iteration\n",
        "import matplotlib.pyplot as plt\n",
        "plt.plot(lstm.history['accuracy'], label='Accuracy')\n",
        "plt.plot(lstm.history['val_accuracy'], label='Val_Accuracy')\n",
        "plt.legend()"
      ],
      "execution_count": 72,
      "outputs": [
        {
          "output_type": "execute_result",
          "data": {
            "text/plain": [
              "<matplotlib.legend.Legend at 0x7f07bb8190d0>"
            ]
          },
          "metadata": {},
          "execution_count": 72
        },
        {
          "output_type": "display_data",
          "data": {
            "image/png": "[encoded data removed]",
            "text/plain": [
              "<Figure size 432x288 with 1 Axes>"
            ]
          },
          "metadata": {
            "needs_background": "light"
          }
        }
      ]
    },
    {
      "cell_type": "code",
      "metadata": {
        "id": "ABvnA6xuwxWn"
      },
      "source": [
        "# Process the test set data.\n",
        "test_sequences = tok.texts_to_sequences(xtest)\n",
        "test_sequences_matrix = sequence.pad_sequences(test_sequences,maxlen=max_len)"
      ],
      "execution_count": 74,
      "outputs": []
    },
    {
      "cell_type": "code",
      "metadata": {
        "colab": {
          "base_uri": "https://localhost:8080/"
        },
        "id": "vzLDdpyvsFwG",
        "outputId": "a86da4dc-e753-46cf-c07b-030dea14c484"
      },
      "source": [
        "#Evaluate the model on test data\n",
        "accr = model.evaluate(test_sequences_matrix,ytest)"
      ],
      "execution_count": 75,
      "outputs": [
        {
          "output_type": "stream",
          "name": "stdout",
          "text": [
            "27/27 [==============================] - 1s 19ms/step - loss: 0.0475 - accuracy: 0.9844\n"
          ]
        }
      ]
    },
    {
      "cell_type": "code",
      "metadata": {
        "colab": {
          "base_uri": "https://localhost:8080/"
        },
        "id": "3_e9jidSxUoC",
        "outputId": "1d693d53-3483-4ac0-f380-9c4bac80491c"
      },
      "source": [
        "print('Test Results :\\n Loss : {}\\n Accuracy : {}'.format(accr[0],accr[1]))"
      ],
      "execution_count": 84,
      "outputs": [
        {
          "output_type": "stream",
          "name": "stdout",
          "text": [
            "Test Results :\n",
            " Loss : 0.047454673796892166\n",
            " Accuracy : 0.9844497442245483\n"
          ]
        }
      ]
    }
  ]
}